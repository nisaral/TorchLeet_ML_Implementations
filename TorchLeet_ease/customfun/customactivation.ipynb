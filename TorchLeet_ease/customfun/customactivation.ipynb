{
 "cells": [
  {
   "cell_type": "markdown",
   "id": "8b5d9794",
   "metadata": {},
   "source": [
    "Problem: Write a Custom Activation Function\n",
    "Problem Statement\n",
    "You are tasked with implementing a custom activation function in PyTorch that computes the following operation:\n",
    "\n",
    "\n",
    "Once implemented, this custom activation function will be used in a simple linear regression model.\n",
    "\n",
    "Requirements\n",
    "Custom Activation Function:\n",
    "\n",
    "Implement a class CustomActivationModel inheriting from torch.nn.Module.\n",
    "Define the forward method to compute the activation function ( \\text{tanh}(x) + x ).\n",
    "Integration with Linear Regression:\n",
    "\n",
    "Use the custom activation function in a simple linear regression model.\n",
    "The model should include:\n",
    "A single linear layer.\n",
    "The custom activation function applied to the output of the linear layer.\n",
    "Constraints\n",
    "The custom activation function should not have any learnable parameters.\n",
    "Ensure compatibility with PyTorch tensors for forward pass computations."
   ]
  },
  {
   "cell_type": "code",
   "execution_count": null,
   "id": "5dd51068",
   "metadata": {
    "vscode": {
     "languageId": "plaintext"
    }
   },
   "outputs": [],
   "source": []
  }
 ],
 "metadata": {
  "language_info": {
   "name": "python"
  }
 },
 "nbformat": 4,
 "nbformat_minor": 5
}
